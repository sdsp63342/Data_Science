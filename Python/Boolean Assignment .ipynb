{
 "cells": [
  {
   "cell_type": "markdown",
   "metadata": {},
   "source": [
    "# Boolean Assignment "
   ]
  },
  {
   "cell_type": "code",
   "execution_count": 1,
   "metadata": {},
   "outputs": [
    {
     "name": "stdout",
     "output_type": "stream",
     "text": [
      "<class 'bool'>\n",
      "140736983521104\n"
     ]
    }
   ],
   "source": [
    "# Declare a boolean value and store it in a variable.\n",
    "# Check the type and print the id of the same.\n",
    "\n",
    "bVariable= True\n",
    "print(type(bVariable))\n",
    "print(id(bVariable))\n"
   ]
  },
  {
   "cell_type": "code",
   "execution_count": 2,
   "metadata": {},
   "outputs": [
    {
     "name": "stdout",
     "output_type": "stream",
     "text": [
      "140736983803648\n",
      "140736983803648\n",
      "Id of 0 and Id of 0 is same 140736983803648 and 140736983803648\n"
     ]
    }
   ],
   "source": [
    "# Take one boolean value between 0 - 256.\n",
    "# Assign it to two different variables.\n",
    "# Check the id of both the variables. It should come the same. Check why?\n",
    "\n",
    "bVar= 0\n",
    "bVar_1=0\n",
    "print(id(bVar))\n",
    "print(id(bVar_1))\n",
    "if(id(bVar)== id(bVar_1)):\n",
    "    print(f'Id of {bVar} and Id of {bVar_1} is same {id(bVar)} and {id(bVar_1)}')\n",
    "else:\n",
    "    print(f'Id of {bVar} and Id of {bVar_1} is different {id(bVar)} and {id(bVar_1)}')\n",
    "\n",
    "# Id will be same because we are using same number"
   ]
  },
  {
   "cell_type": "code",
   "execution_count": 3,
   "metadata": {},
   "outputs": [
    {
     "name": "stdout",
     "output_type": "stream",
     "text": [
      "Sum of the Entered values 1\n",
      "Difference of the Entered values -1\n",
      "Product of the Enetered Values 0\n",
      "Product of the Enetered Values 0\n",
      "Product of the Enetered Values 0\n",
      "Product of the Enetered Values 0\n"
     ]
    }
   ],
   "source": [
    "# Arithmetic Operations on boolean data\n",
    "# Take two different boolean values.\n",
    "# Store them in two different variables.\n",
    "# Do below operations on them:-\n",
    "# Find sum of both values\n",
    "# Find difference between them\n",
    "# Find the product of both.\n",
    "# Find value after dividing first value with second value\n",
    "# Find the remainder after dividing first value with second value\n",
    "# Find the quotient after dividing first value with second value\n",
    "# Find the result of first value to the power of second value.\n",
    "\n",
    "bVar1=False\n",
    "bVar2=True\n",
    "print(f'Sum of the Entered values {bVar1+bVar2}')\n",
    "print(f'Difference of the Entered values {bVar1-bVar2}')\n",
    "print(f'Product of the Enetered Values {bVar1*bVar2}')\n",
    "print(f'Product of the Enetered Values {bVar%bVar2}')\n",
    "print(f'Product of the Enetered Values {bVar1//bVar2}')\n",
    "print(f'Product of the Enetered Values {bVar1**bVar2}')"
   ]
  },
  {
   "cell_type": "code",
   "execution_count": 4,
   "metadata": {},
   "outputs": [
    {
     "name": "stdout",
     "output_type": "stream",
     "text": [
      "False < True\n",
      "False <= True\n"
     ]
    }
   ],
   "source": [
    "# Comparison Operators on boolean values\n",
    "# Take two different boolean values.\n",
    "# Store them in two different variables.\n",
    "# Do below operations on them:-\n",
    "# Compare these two values with below operator:-\n",
    "# Greater than, '>'\n",
    "# less than, '<'\n",
    "# Greater than or equal to, '>='\n",
    "# Less than or equal to, '<='\n",
    "# Observe their output(return type should be boolean)\n",
    "\n",
    "bVar1=False\n",
    "bVar2=True\n",
    "\n",
    "if(bVar1>bVar2):\n",
    "    print(f'{bVar1} > {bVar2}')\n",
    "if(bVar1<bVar2):\n",
    "    print(f'{bVar1} < {bVar2}')\n",
    "if(bVar1>=bVar2):\n",
    "    print(f'{bVar1} >= {bVar2}')\n",
    "if(bVar1<=bVar2):\n",
    "    print(f'{bVar1} <= {bVar2}')\n",
    "\n",
    "\n"
   ]
  },
  {
   "cell_type": "code",
   "execution_count": 5,
   "metadata": {},
   "outputs": [
    {
     "name": "stdout",
     "output_type": "stream",
     "text": [
      "True and False is not equal\n"
     ]
    }
   ],
   "source": [
    "# Equality Operator\n",
    "# Take two different boolean values.\n",
    "# Store them in two different variables.\n",
    "# Equate them using equality operators (==, !=)\n",
    "# Observe the output(return type should be boolean)\n",
    "bVar1=True\n",
    "bVar2=False\n",
    "if(bVar1==bVar2):\n",
    "    print(f'{bVar1} and {bVar2} is equal')\n",
    "elif(bVar1!=bVar2):\n",
    "    print(f'{bVar1} and {bVar2} is not equal')\n"
   ]
  },
  {
   "cell_type": "code",
   "execution_count": 6,
   "metadata": {},
   "outputs": [
    {
     "name": "stdout",
     "output_type": "stream",
     "text": [
      "True\n",
      "False\n",
      "False\n",
      "False\n",
      "True\n",
      "True\n",
      "True\n",
      "False\n",
      "False\n",
      "True\n"
     ]
    }
   ],
   "source": [
    "# Logical operators\n",
    "# Observe the output of below code\n",
    "# Cross check the output manually\n",
    "print(True and True)\n",
    "#----------------------------------------->Output is True\n",
    "\n",
    "print(False and True)\n",
    "#----------------------------------------->Output is False\n",
    "print(True and False)\n",
    "#----------------------------------------->Output is False\n",
    "print(False and False)\n",
    "#----------------------------------------->Output is False\n",
    "print(True or True)\n",
    "#----------------------------------------->Output is True\n",
    "print(False or True)\n",
    "#----------------------------------------->Output is True\n",
    "print(True or False)\n",
    "#----------------------------------------->Output is True\n",
    "print(False or False)\n",
    "#----------------------------------------->Output is False\n",
    "print(not True)\n",
    "#----------------------------------------->Output is False\n",
    "print(not False)\n",
    "#----------------------------------------->Output is True"
   ]
  },
  {
   "cell_type": "code",
   "execution_count": 7,
   "metadata": {},
   "outputs": [
    {
     "name": "stdout",
     "output_type": "stream",
     "text": [
      "True\n",
      "True\n",
      "True\n",
      "-2\n",
      "4\n",
      "0\n"
     ]
    }
   ],
   "source": [
    "# Bitwise Operators\n",
    "# Do below operations on the values provided below:-\n",
    "# Bitwise and(&) --------------> True, True -------> Output is True\n",
    "# Bitwise or(|) --------------> True, False -------> Output is True\n",
    "# Bitwise(^) --------------> True, False -------> Output is True\n",
    "# Bitwise negation(~) ---------> True -------> Output is -2\n",
    "# Bitwise left shift ---------> True,2 -------> Output is 4\n",
    "# Bitwise right shift ---------> True,2 -------> Output is 0\n",
    "# Cross check the output manually\n",
    "print(True&True)\n",
    "print(True|False)\n",
    "print(True^False)\n",
    "print(~True)\n",
    "print(True<<2)\n",
    "print(True>>2)"
   ]
  },
  {
   "cell_type": "code",
   "execution_count": 8,
   "metadata": {},
   "outputs": [
    {
     "name": "stdout",
     "output_type": "stream",
     "text": [
      "True\n",
      "False\n",
      "True\n",
      "False\n"
     ]
    }
   ],
   "source": [
    "# What is the output of expression inside the print statement. Cross\n",
    "# check before running the program.\n",
    "a = True\n",
    "b = True\n",
    "print(a is b) \n",
    "\n",
    "print(a is not b) \n",
    "a = False\n",
    "b = False\n",
    "print(a is b) \n",
    "print(a is not b) "
   ]
  },
  {
   "cell_type": "code",
   "execution_count": 9,
   "metadata": {},
   "outputs": [
    {
     "name": "stdout",
     "output_type": "stream",
     "text": [
      "True\n",
      "True\n",
      "True\n",
      "True\n",
      "True\n"
     ]
    }
   ],
   "source": [
    "# Membership operation\n",
    "# in, not in are two membership operators and it returns boolean value\n",
    "print(True in [10,10.20,10+20j,'Python', True])\n",
    "print(False in (10,10.20,10+20j,'Python', False))\n",
    "print(True in {1,2,3, True})\n",
    "print(True in {True:100, False:200, True:300})\n",
    "print(False in {True:100, False:200, True:300})"
   ]
  }
 ],
 "metadata": {
  "celltoolbar": "Raw Cell Format",
  "kernelspec": {
   "display_name": "Python 3",
   "language": "python",
   "name": "python3"
  },
  "language_info": {
   "codemirror_mode": {
    "name": "ipython",
    "version": 3
   },
   "file_extension": ".py",
   "mimetype": "text/x-python",
   "name": "python",
   "nbconvert_exporter": "python",
   "pygments_lexer": "ipython3",
   "version": "3.8.5"
  }
 },
 "nbformat": 4,
 "nbformat_minor": 4
}
